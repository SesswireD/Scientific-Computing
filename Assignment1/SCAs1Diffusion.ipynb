{
 "cells": [
  {
   "cell_type": "code",
   "execution_count": 14,
   "metadata": {},
   "outputs": [],
   "source": [
    "import math\n",
    "import numpy as np\n",
    "import matplotlib.pyplot as plt\n",
    "import matplotlib.animation as anim"
   ]
  },
  {
   "cell_type": "code",
   "execution_count": 158,
   "metadata": {},
   "outputs": [],
   "source": [
    "def initialize_plane(N):\n",
    "    \"\"\"initializes a matrix of zeros where the top row is 1\"\"\"\n",
    "\n",
    "    #matrix of zeros of NxN\n",
    "    plane = np.zeros((N,N))\n",
    "\n",
    "    #first row contains ones\n",
    "    plane[0] = np.ones(N)\n",
    "\n",
    "    return plane\n",
    "\n",
    "def initialize_sinks(N,sinks=0):\n",
    "    \"\"\"initializes a matrix of zeros where some areas are 1\"\"\"\n",
    "\n",
    "    #plane of zeros \n",
    "    plane = np.zeros((N,N))\n",
    "\n",
    "    #determine dimension of sink\n",
    "    sink_size = int(N/10)\n",
    "\n",
    "    #add one sink into the plane\n",
    "    if sinks == 1:\n",
    "        #sink in the middle of the plane\n",
    "        plane[sink_size*4:sink_size*6,sink_size*4:sink_size*6] = 1\n",
    "    \n",
    "    #add two sinks into the plane\n",
    "    if sinks == 2:\n",
    "        plane[sink_size*6:sink_size*7,sink_size*7:sink_size*8] = 1\n",
    "        plane[sink_size*2:sink_size*3,sink_size*2:sink_size*3] = 1\n",
    "    \n",
    "    return plane\n",
    "\n",
    "def analytical_solution(y,D,max_i,time):\n",
    "    \"\"\"gives the analytical solution for the 2D diffusion equation\n",
    "    given a coordinate point y, diffusion coefficient D, iterator i and time t\n",
    "    \"\"\"\n",
    "\n",
    "    #count for sum\n",
    "    solution = 0\n",
    "\n",
    "    for i in range(max_i):\n",
    "\n",
    "        #calculate flow from up direction\n",
    "        up_change = math.erfc((1-y+2*i)/(2*math.sqrt(D*time)))\n",
    "\n",
    "        #calculate flow from down direction\n",
    "        down_change = math.erfc((1+y+2*i)/(2*math.sqrt(D*time)))\n",
    "\n",
    "        #add the difference to solution\n",
    "        solution += up_change- down_change\n",
    "\n",
    "    return solution\n",
    "    \n",
    "\n",
    "def diffusion(state,dt,dx,D):\n",
    "    \"\"\"performs one iteration of the time dependent diffusion equation.\n",
    "    Given an initial state,timestep dt, spacestep dx and diffusionterm D returns the state at the next timestep.\n",
    "    \"\"\"\n",
    "\n",
    "    #create an empty matrix for storing new values\n",
    "    next_state = initialize_plane(len(state))\n",
    "\n",
    "    #loop through rows (skip first and last one)\n",
    "    for i in range(1,len(state)-1):\n",
    "    \n",
    "        #loop trough columns\n",
    "        for j in range(len(state)):\n",
    "\n",
    "            #check for boundaries\n",
    "            if j == 0:\n",
    "                \n",
    "                #take values on the right border of the plane\n",
    "                left = state[i][-1]\n",
    "                right = state[i][j+1]\n",
    "                \n",
    "            elif j == len(state)-1:\n",
    "                \n",
    "                #take values on the left border of the plane\n",
    "                left = state[i][j-1]\n",
    "                right = state[i][0]\n",
    "                \n",
    "            else:\n",
    "                \n",
    "                #take direct left and right neighbors\n",
    "                left = state[i][j-1]\n",
    "                right= state[i][j+1]\n",
    "\n",
    "            #get direct up and down neighbors and current value\n",
    "            down = state[i+1][j]\n",
    "            up = state[i-1][j]\n",
    "            current = state[i][j]\n",
    "\n",
    "            #calculate diffusion term\n",
    "            change = D *(dt/(dx**2))\n",
    "\n",
    "            #calculate value of current cell\n",
    "            next_state[i][j] = change * (right+left+down+up -(4*current)) + current\n",
    "        \n",
    "    return next_state"
   ]
  },
  {
   "cell_type": "code",
   "execution_count": 16,
   "metadata": {},
   "outputs": [],
   "source": [
    "def jacobi(state,sinks):\n",
    "    \"\"\"performs one iteration of the Jacobi method\n",
    "    Returns the new state of the system\n",
    "    \"\"\"\n",
    "\n",
    "    #create an empty matrix for storing new values\n",
    "    next_state = initialize_plane(len(state))\n",
    "\n",
    "    #loop through rows (skip first and last one)\n",
    "    for i in range(1,len(state)-1):\n",
    "    \n",
    "        #loop trough columns\n",
    "        for j in range(len(state)):\n",
    "\n",
    "            #check for sinks\n",
    "            if sinks[i][j] ==1:\n",
    "                next_state[i][j]=0\n",
    "            else:\n",
    "                #check for boundaries\n",
    "                if j == 0:\n",
    "                    \n",
    "                    #take values on the right border of the plane\n",
    "                    left = state[i][-1]\n",
    "                    right = state[i][j+1]\n",
    "                    \n",
    "                elif j == len(state)-1:\n",
    "                    \n",
    "                    #take values on the left border of the plane\n",
    "                    left = state[i][j-1]\n",
    "                    right = state[i][0]\n",
    "                    \n",
    "                else:\n",
    "                    \n",
    "                    #take direct left and right neighbors\n",
    "                    left = state[i][j-1]\n",
    "                    right= state[i][j+1]\n",
    "\n",
    "                #get direct up and down neighbors\n",
    "                down = state[i+1][j]\n",
    "                up = state[i-1][j]\n",
    "\n",
    "                #calculate value of current cell\n",
    "                next_state[i][j] = 0.25*(right+left+down+up)\n",
    "        \n",
    "    return next_state"
   ]
  },
  {
   "cell_type": "code",
   "execution_count": 17,
   "metadata": {},
   "outputs": [],
   "source": [
    "def gauss_seidel(state,sinks):\n",
    "    \"\"\"performs one iteration of the Gauss Siedel Method\n",
    "    Returns the new state of the system\n",
    "    \"\"\"\n",
    "\n",
    "    #create an empty matrix for storing new values\n",
    "    next_state = initialize_plane(len(state))\n",
    "\n",
    "    #loop through rows\n",
    "    for i in range(1,len(state)-1):\n",
    "    \n",
    "        #loop trough columns\n",
    "        for j in range(len(state)):\n",
    "            \n",
    "            #check for sinks\n",
    "            if sinks[i][j]==1:\n",
    "                next_state[i][j]=0\n",
    "            else:\n",
    "                #check for boundaries\n",
    "                if j == 0:\n",
    "                    \n",
    "                    #take values on the right border of the plane\n",
    "                    left = state[i][-1]\n",
    "                    right = state[i][j+1]\n",
    "                    \n",
    "                elif j == len(state)-1:\n",
    "                    \n",
    "                    #take values on the left border of the plane\n",
    "                    left = next_state[i][j-1]\n",
    "                    right = state[i][0]\n",
    "                    \n",
    "                else:\n",
    "                    \n",
    "                    #take direct left and right neighbors\n",
    "                    left = next_state[i][j-1]\n",
    "                    right= state[i][j+1]\n",
    "\n",
    "                #get direct up and down neighbors\n",
    "                down = state[i+1][j]\n",
    "                up = next_state[i-1][j]\n",
    "\n",
    "                #calculate value of current cell\n",
    "                next_state[i][j] = 0.25*(right+left+down+up)\n",
    "        \n",
    "    return next_state\n"
   ]
  },
  {
   "cell_type": "code",
   "execution_count": 18,
   "metadata": {},
   "outputs": [],
   "source": [
    "def succesive_over_relaxation(state, mix,sinks):\n",
    "    \"\"\"performs one iteration of the Succesive Over Relaxation method\n",
    "    Given an initial state and mix term omega returns the new state of the system\n",
    "    \"\"\"\n",
    "\n",
    "    #create an empty matrix for storing new values\n",
    "    next_state = initialize_plane(len(state))\n",
    "\n",
    "    #loop through columns\n",
    "    for i in range(1,len(state)-1):\n",
    "    \n",
    "        #loop trough rows (skip first and last one)\n",
    "        for j in range(len(state)):\n",
    "\n",
    "            #check for sinks\n",
    "            if sinks[i][j]==1:\n",
    "                next_state[i][j] = 0\n",
    "            else:\n",
    "            \n",
    "                #check for boundaries\n",
    "                if j == 0:\n",
    "                    \n",
    "                    #take values on the right border of the plane\n",
    "                    left = state[i][-1]\n",
    "                    right = state[i][j+1]\n",
    "                    \n",
    "                elif j == len(state)-1:\n",
    "                    \n",
    "                    #take values on the left border of the plane\n",
    "                    left = next_state[i][j-1]\n",
    "                    right = state[i][0]\n",
    "                    \n",
    "                else:\n",
    "                    \n",
    "                    #take direct left and right neighbors\n",
    "                    left = next_state[i][j-1]\n",
    "                    right= state[i][j+1]\n",
    "\n",
    "                #get direct up and down neighbors\n",
    "                down = state[i+1][j]\n",
    "                up = next_state[i-1][j]\n",
    "\n",
    "                #calculate value of current cell\n",
    "                next_state[i][j] = mix/4*(right+left+down+up)+((1-mix)*state[i][j])\n",
    "        \n",
    "    return next_state\n"
   ]
  },
  {
   "attachments": {},
   "cell_type": "markdown",
   "metadata": {},
   "source": [
    "# Plotting\n",
    "\n",
    "Below we define code for plotting our experiments. The experiments we plot are:\n",
    "\n",
    "### 1D Wave equation\n",
    "* Plot the result at several times in the same figure, e.g. varying the color of the curve. Take c = 1 and use the time step ∆t = 0.001\n",
    "* Make an animated plot of the time development\n",
    "\n",
    "### Time Dependent Diffusion\n",
    "* Compare to the analytical solution for t = {0.001, 0.01, 0.1, and 1}.\n",
    "* Make a plot of the state of the system at several times: t = {0, 0.001, 0.01, 0.1, and 1}.\n",
    "* Make an animated plot of the time development\n",
    "\n",
    "### Time Independent Diffusion\n",
    "* Test the methods by comparing the result to the analytical solution. Use N = 50. \n",
    "* Show how the convergence measure δ depends on the number of iterations k with a log-lin plot. For SOR use different values of ω.\n",
    "* For SOR find the optimal ω. How does it depend on N?\n",
    "* Experiment a little bit with objects in the computational domain. What is the influence on the number of iterations and the optimal ω."
   ]
  },
  {
   "attachments": {},
   "cell_type": "markdown",
   "metadata": {},
   "source": [
    "# 1D Wave equation"
   ]
  },
  {
   "attachments": {},
   "cell_type": "markdown",
   "metadata": {},
   "source": [
    "# Time Dependent Diffusion"
   ]
  },
  {
   "attachments": {},
   "cell_type": "markdown",
   "metadata": {},
   "source": [
    "### Time Development + Animation"
   ]
  },
  {
   "cell_type": "code",
   "execution_count": 82,
   "metadata": {},
   "outputs": [
    {
     "data": {
      "image/png": "[encoded data removed]",
      "text/plain": [
       "<Figure size 360x360 with 1 Axes>"
      ]
     },
     "metadata": {},
     "output_type": "display_data"
    }
   ],
   "source": [
    "from __future__ import division\n",
    " \n",
    "import numpy as np\n",
    "import matplotlib.pyplot as plt\n",
    "import matplotlib.animation as anim\n",
    " \n",
    "#Helper class for animation taken from https://tomroelandts.com/articles/how-to-create-animated-gifs-with-python\n",
    "class AnimatedGif:\n",
    "    \"\"\"gif object to add frames to\"\"\"\n",
    "    def __init__(self, size=(500, 500)):\n",
    "        self.fig = plt.figure()\n",
    "        self.fig.set_size_inches(size[0] / 100, size[1] / 100)\n",
    "        ax = self.fig.add_axes([0, 0, 1, 1], frameon=False, aspect=1)\n",
    "        ax.set_xticks([])\n",
    "        ax.set_yticks([])\n",
    "        self.images = []\n",
    " \n",
    "    def add(self, image, label=''):\n",
    "        \"\"\"add frame to gif\"\"\"\n",
    "        plt_im = plt.imshow(image, vmin=0, vmax=1, animated=True)\n",
    "        plt_txt = plt.text(1, 48, label, color='red')\n",
    "        self.images.append([plt_im, plt_txt])\n",
    " \n",
    "    def save(self, filename,fps=1):\n",
    "        \"\"\"save the gif to file\"\"\"\n",
    "        animation = anim.ArtistAnimation(self.fig, self.images)\n",
    "        animation.save(filename, writer='imagemagick', fps=fps)\n",
    "\n",
    "#set parameters:\n",
    "#diffusion coefficient\n",
    "D = 1\n",
    "#resolution\n",
    "N = 50\n",
    "#timestep dt\n",
    "time_step = 0.0001\n",
    "#spacestep dx\n",
    "space_step = 1/N\n",
    "#iterations\n",
    "total_iterations = 10000\n",
    "\n",
    "#timesteps to plot\n",
    "saves = [0,10,100,1000,9999]\n",
    "\n",
    "#list for storing states\n",
    "states = []\n",
    "\n",
    "#initialize initial condition\n",
    "new_state = initialize_plane(N)\n",
    "\n",
    "#initialize gif object\n",
    "animated_gif = AnimatedGif()\n",
    " \n",
    "#do the diffusion step for number of iterations\n",
    "for i in range(total_iterations):\n",
    "\n",
    "    #get new state of system\n",
    "    new_state = diffusion(new_state,time_step,space_step,D)\n",
    "\n",
    "    #save current state if in requested saves\n",
    "    if i in saves:\n",
    "        states.append(new_state)\n",
    "    \n",
    "    #add every 100th frame to gif\n",
    "    if i%100==0:\n",
    "        animated_gif.add(new_state, label=f\"t={str(round(i*0.0001,4))}\")\n",
    "    \n"
   ]
  },
  {
   "cell_type": "code",
   "execution_count": 100,
   "metadata": {},
   "outputs": [
    {
     "data": {
      "image/png": "[encoded data removed]",
      "text/plain": [
       "<Figure size 2880x720 with 5 Axes>"
      ]
     },
     "metadata": {
      "needs_background": "light"
     },
     "output_type": "display_data"
    }
   ],
   "source": [
    "#plot each time as subplots in plot\n",
    "fig, axs = plt.subplots(1,5,figsize=(40,10))\n",
    "axs[0].imshow(states[0])\n",
    "axs[0].set_title('t=0',fontsize=60)\n",
    "axs[1].imshow(states[1])\n",
    "axs[1].set_title('t=0.001',fontsize=60)\n",
    "axs[2].imshow(states[2])\n",
    "axs[2].set_title('t=0.01',fontsize=60)\n",
    "axs[3].imshow(states[3])\n",
    "axs[3].set_title('t=0.1',fontsize=60)\n",
    "axs[4].imshow(states[4])\n",
    "axs[4].set_title('t=1',fontsize=60)\n",
    "\n",
    "#Hide the axes to just show pictures.\n",
    "for ax in axs:\n",
    "    ax.label_outer()\n",
    "    ax.axis('off')\n",
    "\n",
    "\n",
    "#save the plot\n",
    "plt.savefig(\"Figures/diffusion.svg\",format=\"svg\", dpi=300)\n",
    "\n",
    "\n",
    "#save the gif\n",
    "# animated_gif.save('Gifs/diffusion.gif',fps=10)"
   ]
  },
  {
   "cell_type": "code",
   "execution_count": 127,
   "metadata": {},
   "outputs": [
    {
     "data": {
      "image/png": "[encoded data removed]",
      "text/plain": [
       "<Figure size 504x216 with 6 Axes>"
      ]
     },
     "metadata": {
      "needs_background": "light"
     },
     "output_type": "display_data"
    }
   ],
   "source": [
    "#create a subfigure\n",
    "fig = plt.figure(constrained_layout=True,figsize=(7,3))\n",
    "(subfig_l) = fig.subfigures(nrows=1, ncols=1)\n",
    "\n",
    "#titles:\n",
    "titles = [\"0\",\"0.001\",\"0.01\",\"0.1\",\"1\"]\n",
    "\n",
    "axes_l = subfig_l.subplots(nrows=1, ncols=5, sharey=True)\n",
    "for i,ax in enumerate(axes_l):\n",
    "    im = ax.imshow(states[i], vmin=0, vmax=1)\n",
    "    ax.set_title(f't={titles[i]}')\n",
    "    ax.label_outer()\n",
    "    ax.axis('off')\n",
    "\n",
    "#add the colorbar\n",
    "subfig_l.colorbar(im, ax=axes_l, location='bottom')\n",
    "\n",
    "#save the plot\n",
    "plt.savefig(\"Figures/diffusion_colorbar.svg\",format=\"svg\", dpi=300)"
   ]
  },
  {
   "cell_type": "code",
   "execution_count": 77,
   "metadata": {},
   "outputs": [
    {
     "data": {
      "image/png": "[encoded data removed]",
      "text/plain": [
       "<Figure size 360x360 with 1 Axes>"
      ]
     },
     "metadata": {},
     "output_type": "display_data"
    }
   ],
   "source": [
    "#also make a shorter gif of above plot\n",
    "#initialize gif object\n",
    "animated_gif = AnimatedGif()\n",
    "\n",
    "#add frames\n",
    "for i in range(len(states)):\n",
    "    animated_gif.add(states[i], label=f\"t={str(round(saves[i]*0.0001,4))}\")\n",
    "\n",
    "#save the gif\n",
    "animated_gif.save('Gifs/diffusion_short.gif',fps=1)\n"
   ]
  },
  {
   "cell_type": "code",
   "execution_count": 34,
   "metadata": {},
   "outputs": [
    {
     "data": {
      "image/png": "[encoded data removed]",
      "text/plain": [
       "<Figure size 1440x1440 with 2 Axes>"
      ]
     },
     "metadata": {
      "needs_background": "light"
     },
     "output_type": "display_data"
    }
   ],
   "source": [
    "#Save the colobar separately to add it more easily to the graphs later\n",
    "a = np.array([[0,1]])\n",
    "plt.figure(figsize=(20, 20))\n",
    "img = plt.imshow(a)\n",
    "plt.gca().set_visible(False)\n",
    "cbar = plt.colorbar(orientation=\"horizontal\")\n",
    "tick_font_size = 30\n",
    "cbar.ax.tick_params(labelsize=tick_font_size)\n",
    "plt.savefig(\"Figures/colorbar_viridis_horizontal.svg\",format=\"svg\", dpi=300)"
   ]
  },
  {
   "attachments": {},
   "cell_type": "markdown",
   "metadata": {},
   "source": [
    "### Analytical Solution"
   ]
  },
  {
   "cell_type": "code",
   "execution_count": 36,
   "metadata": {},
   "outputs": [],
   "source": [
    "#Show correctness of time dependent method by comparing to analytical solution\n",
    "\n",
    "#times to plot\n",
    "times = [0.001,0.01,0.1,1]\n",
    "\n",
    "#linspace for i coordinates\n",
    "coords = np.linspace(0,1,50)\n",
    "\n",
    "#diffusion coefficient\n",
    "D = 1\n",
    "\n",
    "#iterations to evaluate\n",
    "max_iter = 100\n",
    "\n",
    "#list for storing all solutions\n",
    "solutions = []\n",
    "\n",
    "#calculate values for each time\n",
    "for time in times:\n",
    "\n",
    "    #empty array for storing current solution\n",
    "    solution = np.zeros(len(coords))\n",
    "\n",
    "    #calculate values for each coordinate\n",
    "    for j, coord in enumerate(coords):\n",
    "\n",
    "        #get solution for current coordinate and current time\n",
    "        solution[j] = analytical_solution(coord,D,max_iter,time)\n",
    "    \n",
    "    #add solution to list\n",
    "    solutions.append(solution)"
   ]
  },
  {
   "cell_type": "code",
   "execution_count": 41,
   "metadata": {},
   "outputs": [
    {
     "data": {
      "image/png": "[encoded data removed]",
      "text/plain": [
       "<Figure size 432x288 with 1 Axes>"
      ]
     },
     "metadata": {
      "needs_background": "light"
     },
     "output_type": "display_data"
    }
   ],
   "source": [
    "#flip coordinates for numerical states\n",
    "coords_flip = np.linspace(1,0,50)\n",
    "\n",
    "#use same colors\n",
    "colors = [\"b\",\"orange\",\"r\",\"g\"]\n",
    "\n",
    "#plot solutions side by side\n",
    "for i,sol in enumerate(solutions):\n",
    "    #plot analytical solution\n",
    "    plt.plot(coords,sol,label=f\"t={times[i]}\",c=colors[i])\n",
    "    #plot one column of numerical solution\n",
    "    plt.plot(coords_flip,states[i+1][:,0],linestyle=\"dotted\",c=colors[i],linewidth=3)\n",
    "\n",
    "#add labels and legend\n",
    "plt.xlabel(\"y-coordinate\")\n",
    "plt.ylabel(\"concentration\")\n",
    "plt.legend()\n",
    "\n",
    "#save the plot\n",
    "plt.savefig(\"Figures/analytical_comparison.svg\",format=\"svg\", dpi=300)\n"
   ]
  },
  {
   "attachments": {},
   "cell_type": "markdown",
   "metadata": {},
   "source": [
    "# Time Independent Diffusion"
   ]
  },
  {
   "attachments": {},
   "cell_type": "markdown",
   "metadata": {},
   "source": [
    "### Analytical comparison + convergence"
   ]
  },
  {
   "cell_type": "code",
   "execution_count": 42,
   "metadata": {},
   "outputs": [],
   "source": [
    "#initialize initial condition\n",
    "new_state = initialize_plane(50)\n",
    "\n",
    "#initialize sinks\n",
    "sinks = initialize_sinks(50,0)\n",
    "\n",
    "#set stopping criterion\n",
    "change = 0.5\n",
    "epsilon = 10**-5\n",
    "\n",
    "#mix term for Successive Over Relaxation (SOR)\n",
    "mix = 1.5\n",
    "\n",
    "#set count for number of iterations\n",
    "count = 0\n",
    "\n",
    "#lists for storing data\n",
    "final_states = []\n",
    "convergence_measures = []\n",
    "convergence_count = []\n",
    "\n",
    "#do Jacobi iteration until change between states is small enough\n",
    "convergence = []\n",
    "convergence.append(change)\n",
    "\n",
    "#run until change is small\n",
    "while change>epsilon:\n",
    "\n",
    "    #save the previous state for now\n",
    "    prev_state = new_state\n",
    "\n",
    "    #get new state of system\n",
    "    new_state = jacobi(new_state,sinks)\n",
    "\n",
    "    #get difference between new and old state\n",
    "    difference = np.abs(np.subtract(new_state,prev_state))\n",
    "\n",
    "    #change is max difference in state\n",
    "    change = np.max(difference)\n",
    "\n",
    "    #save current state of convergence measure\n",
    "    convergence.append(change)\n",
    "\n",
    "    #increment count\n",
    "    count +=1\n",
    "\n",
    "#save the final state for comparison\n",
    "final_states.append(new_state)\n",
    "\n",
    "#save the change in convergence measure for comparision\n",
    "convergence_measures.append(convergence)\n",
    " \n",
    "#reset count and change initial state\n",
    "count = 0\n",
    "change = 0.5\n",
    "new_state = initialize_plane(50)\n",
    "\n",
    "#do Gauss-Seidel iteration until change between states is small enough\n",
    "convergence = []\n",
    "convergence.append(change)\n",
    "\n",
    "#run for fixed time so all experiments have the same length\n",
    "while change>epsilon:\n",
    "\n",
    "    #save the previous state for now\n",
    "    prev_state = new_state\n",
    "\n",
    "    #get new state of system\n",
    "    new_state = gauss_seidel(new_state,sinks)\n",
    "\n",
    "    #get difference between new and old state\n",
    "    difference = np.abs(np.subtract(new_state,prev_state))\n",
    "\n",
    "    #change is max difference in state\n",
    "    change = np.max(difference)\n",
    "\n",
    "    #save current state of convergence measure\n",
    "    convergence.append(change)\n",
    "\n",
    "    #increment count\n",
    "    count +=1\n",
    "\n",
    "#save the final state for comparison\n",
    "final_states.append(new_state)\n",
    "\n",
    "#save the change in convergence measure for comparision\n",
    "convergence_measures.append(convergence)\n",
    "\n",
    "#mix rates for SOR\n",
    "mix_rates = [0.1,0.5,1,1.5,1.9]\n",
    "\n",
    "#do Succesive Over Relaxation iteration until change between states is small enough for different values of Omega (mix)\n",
    "for mix in mix_rates:\n",
    "\n",
    "    #reset count and change inital state\n",
    "    count = 0\n",
    "    change = 0.5\n",
    "    new_state = initialize_plane(50)\n",
    "\n",
    "    #clear list of convergence measures\n",
    "    convergence = []\n",
    "    convergence.append(change)\n",
    "\n",
    "    #run until change is small\n",
    "    while change>epsilon:\n",
    "\n",
    "        #save the previous state for now\n",
    "        prev_state = new_state\n",
    "\n",
    "        #get new state of system\n",
    "        new_state = succesive_over_relaxation(new_state,mix,sinks)\n",
    "\n",
    "        #get difference between new and old state\n",
    "        difference = np.abs(np.subtract(new_state,prev_state))\n",
    "\n",
    "        #change is max difference in state\n",
    "        change = np.max(difference)\n",
    "\n",
    "        #save current state of convergence measure\n",
    "        convergence.append(change)\n",
    "\n",
    "        #increment count\n",
    "        count +=1\n",
    "\n",
    "    #save the final state for comparison\n",
    "    final_states.append(new_state)\n",
    "\n",
    "    #save the change in convergence measure for comparision\n",
    "    convergence_measures.append(convergence)\n"
   ]
  },
  {
   "cell_type": "code",
   "execution_count": 44,
   "metadata": {},
   "outputs": [
    {
     "data": {
      "image/png": "[encoded data removed]",
      "text/plain": [
       "<Figure size 432x288 with 1 Axes>"
      ]
     },
     "metadata": {
      "needs_background": "light"
     },
     "output_type": "display_data"
    }
   ],
   "source": [
    "#plot the error from the analytical solution for each method\n",
    "solution = np.flip(solutions[-1])\n",
    "plt.plot(coords_flip,solution-final_states[0][:,0],label=\"Jacobi\")\n",
    "plt.plot(coords_flip,solution-final_states[1][:,0],label=\"Gauss-Seidel\")\n",
    "plt.plot(coords_flip,solution-final_states[5][:,0],label=\"SOR\")  #SOR with w=1.5\n",
    "\n",
    "plt.legend()\n",
    "plt.xlabel(\"y-coordinate\")\n",
    "plt.ylabel(\"error\")\n",
    "plt.savefig(\"Figures/analytical_comparison_indepedent.svg\",format=\"svg\", dpi=300)\n"
   ]
  },
  {
   "cell_type": "code",
   "execution_count": 45,
   "metadata": {},
   "outputs": [
    {
     "data": {
      "image/png": "[encoded data removed]",
      "text/plain": [
       "<Figure size 432x288 with 1 Axes>"
      ]
     },
     "metadata": {
      "needs_background": "light"
     },
     "output_type": "display_data"
    }
   ],
   "source": [
    "labels = [\"$\\omega$=0.1\",\"$\\omega$=0.5\",\"$\\omega$=1.0\",\"$\\omega$=1.5\",\"$\\omega$=1.9\"]\n",
    "\n",
    "#plot the errors for different values of w\n",
    "for i in range(2,7):\n",
    "    plt.plot(coords_flip,solution-final_states[i][:,0],label=labels[i-2])\n",
    "\n",
    "plt.legend()\n",
    "plt.xlabel(\"y-coordinate\")\n",
    "plt.ylabel(\"error\")\n",
    "plt.savefig(\"Figures/analytical_comparison_omega.svg\",format=\"svg\", dpi=300)\n"
   ]
  },
  {
   "cell_type": "code",
   "execution_count": 47,
   "metadata": {},
   "outputs": [
    {
     "data": {
      "image/png": "[encoded data removed]",
      "text/plain": [
       "<Figure size 432x288 with 1 Axes>"
      ]
     },
     "metadata": {
      "needs_background": "light"
     },
     "output_type": "display_data"
    }
   ],
   "source": [
    "#plot the convergence over time for all methods\n",
    "plt.plot(convergence_measures[0],label=\"Jacobi\")\n",
    "plt.plot(convergence_measures[1],label=\"Gauss-Seidel\")\n",
    "plt.plot(convergence_measures[5],label=\"SOR\")  #SOR with w=1.5\n",
    "\n",
    "plt.legend()\n",
    "plt.xlabel(\"iterations\")\n",
    "plt.ylabel(\"$\\delta$\")\n",
    "plt.yscale(\"log\")\n",
    "plt.savefig(\"Figures/comparison_convergence.svg\",format=\"svg\", dpi=300)\n"
   ]
  },
  {
   "cell_type": "code",
   "execution_count": 48,
   "metadata": {},
   "outputs": [
    {
     "data": {
      "image/png": "[encoded data removed]",
      "text/plain": [
       "<Figure size 432x288 with 1 Axes>"
      ]
     },
     "metadata": {
      "needs_background": "light"
     },
     "output_type": "display_data"
    }
   ],
   "source": [
    "\n",
    "labels = [\"$\\omega$=0.1\",\"$\\omega$=0.5\",\"$\\omega$=1.0\",\"$\\omega$=1.5\",\"$\\omega$=1.9\"]\n",
    "\n",
    "#plot the convergence over time for all SOR with different omega\n",
    "for i in range(2,7):\n",
    "    plt.plot(convergence_measures[i],label=labels[i-2])\n",
    "\n",
    "plt.legend()\n",
    "plt.xlabel(\"iterations\")\n",
    "plt.ylabel(\"$\\delta$\")\n",
    "plt.yscale(\"log\")\n",
    "plt.savefig(\"Figures/comparison_convergence_omega.svg\",format=\"svg\", dpi=300)"
   ]
  },
  {
   "attachments": {},
   "cell_type": "markdown",
   "metadata": {},
   "source": [
    "### Finding Optimal $\\omega$"
   ]
  },
  {
   "cell_type": "code",
   "execution_count": null,
   "metadata": {},
   "outputs": [],
   "source": [
    "from scipy.optimize import minimize\n",
    "\n",
    "def minimize_omega(omega,initial_state,sinks,solution,epsilon=10**-5):\n",
    "    \"\"\"performs SOR for 100 iterations. \n",
    "    Returns the error from the analytical solution if no sinks are present.\n",
    "    Returns amount of iterations when sinks are included\n",
    "    \"\"\"\n",
    "\n",
    "    #initial change is something (rel.) big\n",
    "    change = 0.5\n",
    "\n",
    "    #initial count is zero\n",
    "    count = 0\n",
    "\n",
    "    #set new state\n",
    "    new_state = initial_state\n",
    "\n",
    "    #run for fixed time \n",
    "    for i in range(100):\n",
    "\n",
    "        #save the previous state for now\n",
    "        prev_state = new_state\n",
    "\n",
    "        #get new state of system\n",
    "        new_state = succesive_over_relaxation(new_state,omega,sinks)\n",
    "\n",
    "        #get difference between new and old state\n",
    "        difference = np.abs(np.subtract(new_state,prev_state))\n",
    "\n",
    "        #change is max difference in state\n",
    "        change = np.max(difference)\n",
    "\n",
    "        #increment count\n",
    "        count += 1\n",
    "\n",
    "    #return error from analytical solution as minimizer\n",
    "    # error = np.max(np.abs(solution-new_state[:,0]))\n",
    "\n",
    "    #return difference from previous state as minimizer\n",
    "    error = change\n",
    "\n",
    "    return error"
   ]
  },
  {
   "cell_type": "code",
   "execution_count": null,
   "metadata": {},
   "outputs": [],
   "source": [
    "#get resolution sizes to test\n",
    "N = np.linspace(30,70,5)\n",
    "# N = np.linspace(30,30,1)\n",
    "\n",
    "#empty list for storing optimal omega\n",
    "optimal_omega = []\n",
    "\n",
    "#number of sinks\n",
    "num_sinks = 2\n",
    "\n",
    "#find optimal omega for each N\n",
    "for n in N:\n",
    "\n",
    "    #linspace for i coordinates\n",
    "    coords = np.linspace(0,1,int(n))\n",
    "\n",
    "    #empty array for storing current solution\n",
    "    solution = np.zeros(len(coords))\n",
    "\n",
    "    #calculate analytical values for each coordinate\n",
    "    for j, coord in enumerate(coords):\n",
    "\n",
    "        #get solution for current coordinate and current time\n",
    "        solution[j] = analytical_solution(coord,1,100,1)\n",
    "    \n",
    "    #flip solution to be compatible with output of SOR\n",
    "    solution = np.flip(solution)\n",
    "    \n",
    "    #initialize initial state\n",
    "    initial_state = initialize_plane(int(n))\n",
    "\n",
    "    #initialize sinks\n",
    "    sinks = initialize_sinks(int(n),num_sinks)\n",
    "\n",
    "    #use Scipy's minimize to find optimal omega\n",
    "    omega = minimize(minimize_omega,1.8, args=(initial_state,sinks,solution),bounds=[(1.7,2.0)])\n",
    "\n",
    "    #save the optimal omega\n",
    "    optimal_omega.append(omega.x[0])\n"
   ]
  },
  {
   "cell_type": "code",
   "execution_count": null,
   "metadata": {},
   "outputs": [
    {
     "name": "stdout",
     "output_type": "stream",
     "text": [
      "ran optimizer for plane with 2 sinks\n",
      "[30. 40. 50. 60. 70.]\n",
      "[1.7864997996877472, 1.8228503412874388, 1.8428829927187698, 1.860497539481315, 1.8788874941796454]\n"
     ]
    }
   ],
   "source": [
    "#print the optimal omega for different sizes of the plane (given number of sins)\n",
    "print(f\"ran optimizer for plane with {num_sinks} sinks\")\n",
    "print(N)\n",
    "print(optimal_omega)"
   ]
  },
  {
   "attachments": {},
   "cell_type": "markdown",
   "metadata": {},
   "source": [
    "### Adding Sinks"
   ]
  },
  {
   "cell_type": "code",
   "execution_count": 49,
   "metadata": {},
   "outputs": [],
   "source": [
    "#empty list for storing convergence measures of each experiment\n",
    "convergence_measures = []\n",
    "\n",
    "#empty list for storing final state\n",
    "final_states = []\n",
    "\n",
    "#empty list for storing sink planes\n",
    "sink_planes = []\n",
    "\n",
    "#omega mix term for SOR\n",
    "mix = 1.85\n",
    "\n",
    "#plot influence of sinks on the number of iterations\n",
    "for i in range(3):\n",
    "    \n",
    "    #initialize plane\n",
    "    new_state = initialize_plane(50)\n",
    "\n",
    "    #initialize sinks\n",
    "    sinks = initialize_sinks(50,i)\n",
    "\n",
    "    #save the sink plane for plotting later\n",
    "    sink_planes.append(sinks)\n",
    "\n",
    "    #reset change\n",
    "    change = 0.5 \n",
    "    \n",
    "    #empty list for saving convergence measure\n",
    "    convergence = []\n",
    "\n",
    "    #run for fixed time so all experiments have the same length\n",
    "    while change>epsilon:\n",
    "\n",
    "        #save the previous state for now\n",
    "        prev_state = new_state\n",
    "\n",
    "        #get new state of system\n",
    "        new_state = succesive_over_relaxation(new_state,mix,sinks)\n",
    "\n",
    "        #get difference between new and old state\n",
    "        difference = np.abs(np.subtract(new_state,prev_state))\n",
    "\n",
    "        #change is max difference in state\n",
    "        change = np.max(difference)\n",
    "\n",
    "        #save current state of convergence measure\n",
    "        convergence.append(change)\n",
    "\n",
    "    #save the final state for comparison\n",
    "    final_states.append(new_state)\n",
    "\n",
    "    #save the convergence measure for comparison\n",
    "    convergence_measures.append(convergence)"
   ]
  },
  {
   "cell_type": "code",
   "execution_count": 129,
   "metadata": {},
   "outputs": [
    {
     "data": {
      "image/png": "[encoded data removed]",
      "text/plain": [
       "<Figure size 432x288 with 1 Axes>"
      ]
     },
     "metadata": {
      "needs_background": "light"
     },
     "output_type": "display_data"
    }
   ],
   "source": [
    "#plot the convergence of SOR for different amount of sinks\n",
    "plt.plot(convergence_measures[0],label=\"sinks=0\")\n",
    "plt.plot(convergence_measures[1],label=\"sinks=1\")\n",
    "plt.plot(convergence_measures[2],label=\"sinks=2\")  \n",
    "\n",
    "plt.legend()\n",
    "plt.xlabel(\"iterations\")\n",
    "plt.ylabel(\"error\")\n",
    "plt.yscale(\"log\")\n",
    "# plt.xscale(\"log\")\n",
    "plt.savefig(\"Figures/comparison_convergence_sinks.svg\",format=\"svg\", dpi=300)"
   ]
  },
  {
   "cell_type": "code",
   "execution_count": 92,
   "metadata": {},
   "outputs": [
    {
     "data": {
      "image/png": "[encoded data removed]",
      "text/plain": [
       "<Figure size 2160x720 with 3 Axes>"
      ]
     },
     "metadata": {
      "needs_background": "light"
     },
     "output_type": "display_data"
    }
   ],
   "source": [
    "#plot the final states with sinks\n",
    "\n",
    "#plot each time as subplots in plot\n",
    "fig, axs = plt.subplots(1,3,figsize=(30,10))\n",
    "axs[0].imshow(final_states[0])\n",
    "axs[0].set_title('sinks=0',fontsize=50)\n",
    "axs[1].imshow(final_states[1])\n",
    "axs[1].set_title('sinks=1',fontsize=50)\n",
    "axs[2].imshow(final_states[2])\n",
    "axs[2].set_title('sinks=2',fontsize=50)\n",
    "\n",
    "#Hide the axes to just show pictures.\n",
    "for ax in axs:\n",
    "    ax.label_outer()\n",
    "    ax.axis('off')\n",
    "\n",
    "#save the plot\n",
    "plt.savefig(\"Figures/final_states_sinks.svg\",format=\"svg\", dpi=300)"
   ]
  },
  {
   "cell_type": "code",
   "execution_count": 93,
   "metadata": {},
   "outputs": [
    {
     "data": {
      "image/png": "[encoded data removed]",
      "text/plain": [
       "<Figure size 2160x720 with 3 Axes>"
      ]
     },
     "metadata": {
      "needs_background": "light"
     },
     "output_type": "display_data"
    }
   ],
   "source": [
    "#plot each time as subplots in plot\n",
    "fig, axs = plt.subplots(1,3,figsize=(30,10))\n",
    "axs[0].imshow(sink_planes[0],cmap=\"Accent\")\n",
    "axs[0].set_title('sinks=0',fontsize=50)\n",
    "axs[1].imshow(sink_planes[1],cmap=\"Accent\")\n",
    "axs[1].set_title('sinks=1',fontsize=50)\n",
    "axs[2].imshow(sink_planes[2],cmap=\"Accent\")\n",
    "axs[2].set_title('sinks=2',fontsize=50)\n",
    "\n",
    "#Hide the axes to just show pictures.\n",
    "for ax in axs:\n",
    "    ax.label_outer()\n",
    "    ax.axis('off')\n",
    "\n",
    "#save the plot\n",
    "plt.savefig(\"Figures/sinkplanes.svg\",format=\"svg\", dpi=300)"
   ]
  },
  {
   "cell_type": "code",
   "execution_count": 63,
   "metadata": {},
   "outputs": [
    {
     "name": "stderr",
     "output_type": "stream",
     "text": [
      "/tmp/ipykernel_4057/924908141.py:32: RuntimeWarning: overflow encountered in subtract\n",
      "  difference = np.abs(np.subtract(new_state,prev_state))\n",
      "/tmp/ipykernel_4057/1747251382.py:44: RuntimeWarning: overflow encountered in double_scalars\n",
      "  next_state[i][j] = mix/4*(right+left+down+up)+((1-mix)*state[i][j])\n",
      "/tmp/ipykernel_4057/1747251382.py:44: RuntimeWarning: invalid value encountered in double_scalars\n",
      "  next_state[i][j] = mix/4*(right+left+down+up)+((1-mix)*state[i][j])\n"
     ]
    }
   ],
   "source": [
    "#set omega values\n",
    "omegas = np.linspace(1.8,2.0,10)\n",
    "\n",
    "#empty list for storing convergence measures of each experiment\n",
    "convergence_measures = []\n",
    "\n",
    "#loop through omega values\n",
    "for omega in omegas:\n",
    "    \n",
    "    #initialize plane\n",
    "    new_state = initialize_plane(50)\n",
    "\n",
    "    #initialize sinks\n",
    "    sinks = initialize_sinks(50,0)\n",
    "\n",
    "    #reset change\n",
    "    change = 0.5 \n",
    "    \n",
    "    #empty list for saving convergence measure\n",
    "    convergence = []\n",
    "\n",
    "    #run for fixed time so all experiments have the same length\n",
    "    while change>epsilon:\n",
    "\n",
    "        #save the previous state for now\n",
    "        prev_state = new_state\n",
    "\n",
    "        #get new state of system\n",
    "        new_state = succesive_over_relaxation(new_state,omega,sinks)\n",
    "\n",
    "        #get difference between new and old state\n",
    "        difference = np.abs(np.subtract(new_state,prev_state))\n",
    "\n",
    "        #change is max difference in state\n",
    "        change = np.max(difference)\n",
    "\n",
    "        #save current state of convergence measure\n",
    "        convergence.append(change)\n",
    "\n",
    "    #save the convergence measure for comparison\n",
    "    convergence_measures.append(convergence)\n"
   ]
  },
  {
   "cell_type": "code",
   "execution_count": 78,
   "metadata": {},
   "outputs": [
    {
     "data": {
      "image/png": "[encoded data removed]",
      "text/plain": [
       "<Figure size 432x288 with 1 Axes>"
      ]
     },
     "metadata": {
      "needs_background": "light"
     },
     "output_type": "display_data"
    }
   ],
   "source": [
    "#plot the convergence over time for SOR with different omega on a plane with 1 sink\n",
    "for i in range(7):\n",
    "    plt.plot(convergence_measures[i],label=\"$\\omega=$\"+str(np.round(omegas[i],3)))\n",
    "\n",
    "plt.legend()\n",
    "plt.xlabel(\"iterations\")\n",
    "plt.ylabel(\"$\\delta$\")\n",
    "plt.yscale(\"log\")\n",
    "plt.xscale(\"log\")\n",
    "\n",
    "\n",
    "# plt.savefig()\n"
   ]
  },
  {
   "cell_type": "code",
   "execution_count": 80,
   "metadata": {},
   "outputs": [
    {
     "name": "stderr",
     "output_type": "stream",
     "text": [
      "/tmp/ipykernel_4057/4025037009.py:33: RuntimeWarning: overflow encountered in subtract\n",
      "  difference = np.abs(np.subtract(new_state,prev_state))\n",
      "/tmp/ipykernel_4057/1747251382.py:44: RuntimeWarning: overflow encountered in double_scalars\n",
      "  next_state[i][j] = mix/4*(right+left+down+up)+((1-mix)*state[i][j])\n",
      "/tmp/ipykernel_4057/1747251382.py:44: RuntimeWarning: invalid value encountered in double_scalars\n",
      "  next_state[i][j] = mix/4*(right+left+down+up)+((1-mix)*state[i][j])\n"
     ]
    }
   ],
   "source": [
    "#set omega values\n",
    "omegas = np.linspace(1.8,2.0,10)\n",
    "\n",
    "#empty list for storing convergence measures of each experiment\n",
    "convergence_measures = []\n",
    "\n",
    "for i in range(3):\n",
    "    #loop through omega values\n",
    "    for omega in omegas:\n",
    "        \n",
    "        #initialize plane\n",
    "        new_state = initialize_plane(50)\n",
    "\n",
    "        #initialize sinks\n",
    "        sinks = initialize_sinks(50,i)\n",
    "\n",
    "        #reset change\n",
    "        change = 0.5 \n",
    "        \n",
    "        #empty list for saving convergence measure\n",
    "        convergence = []\n",
    "\n",
    "        #run for fixed time so all experiments have the same length\n",
    "        while change>epsilon:\n",
    "\n",
    "            #save the previous state for now\n",
    "            prev_state = new_state\n",
    "\n",
    "            #get new state of system\n",
    "            new_state = succesive_over_relaxation(new_state,omega,sinks)\n",
    "\n",
    "            #get difference between new and old state\n",
    "            difference = np.abs(np.subtract(new_state,prev_state))\n",
    "\n",
    "            #change is max difference in state\n",
    "            change = np.max(difference)\n",
    "\n",
    "            #save current state of convergence measure\n",
    "            convergence.append(change)\n",
    "\n",
    "        #save the convergence measure for comparison\n",
    "        convergence_measures.append(convergence)"
   ]
  },
  {
   "cell_type": "code",
   "execution_count": 130,
   "metadata": {},
   "outputs": [
    {
     "name": "stderr",
     "output_type": "stream",
     "text": [
      "/home/maistro/anaconda3/lib/python3.9/site-packages/numpy/ma/core.py:6849: RuntimeWarning: overflow encountered in power\n",
      "  result = np.where(m, fa, umath.power(fa, fb)).view(basetype)\n"
     ]
    },
    {
     "data": {
      "image/png": "[encoded data removed]",
      "text/plain": [
       "<Figure size 432x288 with 1 Axes>"
      ]
     },
     "metadata": {
      "needs_background": "light"
     },
     "output_type": "display_data"
    }
   ],
   "source": [
    "#plot all \n",
    "from random import randint\n",
    "colors = []\n",
    "\n",
    "for i in range(10):\n",
    "    colors.append('#%06X' % randint(0, 0xFFFFFF))\n",
    "\n",
    "# plot the convergence over time for SOR with different omega on a plane with 1 sink\n",
    "for i in range(6):\n",
    "    plt.plot(convergence_measures[i],label=\"$\\omega=$\"+str(np.round(omegas[i],3)),color=colors[i])\n",
    "for i in range(10,16):\n",
    "    plt.plot(convergence_measures[i],label=\"$\\omega=$\"+str(np.round(omegas[i-10],3)),linestyle=\"dashed\",color=colors[i-10])\n",
    "for i in range(20,27):\n",
    "    plt.plot(convergence_measures[i],label=\"$\\omega=$\"+str(np.round(omegas[i-20],3)),linestyle=\"dotted\",color=colors[i-20])\n",
    "\n",
    "# plt.legend()\n",
    "plt.xlabel(\"iterations\")\n",
    "plt.ylabel(\"$\\delta$\")\n",
    "plt.yscale(\"log\")\n",
    "plt.xscale(\"log\")"
   ]
  },
  {
   "attachments": {},
   "cell_type": "markdown",
   "metadata": {},
   "source": [
    "# Bonus: Insulated Material"
   ]
  },
  {
   "cell_type": "code",
   "execution_count": 169,
   "metadata": {},
   "outputs": [],
   "source": [
    "def initialize_barrier(N,sinks=0):\n",
    "    \"\"\"initializes a matrix of zeros where some rows are 1\"\"\"\n",
    "\n",
    "    #plane of zeros \n",
    "    plane = np.zeros((N,N))\n",
    "\n",
    "    #determine dimension of sink\n",
    "    sink_size = int(N/10)\n",
    "\n",
    "    #add one sink into the plane\n",
    "    if sinks == 1:\n",
    "        #sink in the middle of the plane\n",
    "        plane[int(N/2)] = 1\n",
    "    \n",
    "    #add two sinks into the plane\n",
    "    if sinks == 2:\n",
    "        plane[int(N*1/4)] = 1\n",
    "        plane[int(N*3/4)] = 1\n",
    "    \n",
    "    return plane\n",
    "\n",
    "\n",
    "def diffusion_barrier(state,dt,dx,D,barrier):\n",
    "    \"\"\"performs one iteration of the time dependent diffusion equation.\n",
    "    Given an initial state,timestep dt, spacestep dx and diffusionterm D returns the state at the next timestep.\n",
    "    Adapted to account for insulating barriers.\n",
    "    \"\"\"\n",
    "\n",
    "    #create an empty matrix for storing new values\n",
    "    next_state = initialize_plane(len(state))\n",
    "\n",
    "    #loop through rows (skip first and last one)\n",
    "    for i in range(1,len(state)-1):\n",
    "    \n",
    "        #loop trough columns\n",
    "        for j in range(len(state)):\n",
    "\n",
    "            #check for insulating material\n",
    "            if barrier[i][j] ==1:\n",
    "                D = 0.01\n",
    "            else:\n",
    "                D = 1 \n",
    "                \n",
    "            #check for boundaries\n",
    "            if j == 0:\n",
    "                \n",
    "                #take values on the right border of the plane\n",
    "                left = state[i][-1]\n",
    "                right = state[i][j+1]\n",
    "                \n",
    "            elif j == len(state)-1:\n",
    "                \n",
    "                #take values on the left border of the plane\n",
    "                left = state[i][j-1]\n",
    "                right = state[i][0]\n",
    "                \n",
    "            else:\n",
    "                \n",
    "                #take direct left and right neighbors\n",
    "                left = state[i][j-1]\n",
    "                right= state[i][j+1]\n",
    "\n",
    "            #get direct up and down neighbors and current value\n",
    "            down = state[i+1][j]\n",
    "            up = state[i-1][j]\n",
    "            current = state[i][j]\n",
    "\n",
    "            #calculate diffusion term\n",
    "            change = D *(dt/(dx**2))\n",
    "\n",
    "            #calculate value of current cell\n",
    "            next_state[i][j] = change * (right+left+down+up -(4*current)) + current\n",
    "        \n",
    "    return next_state\n",
    "\n",
    "#initialize insulating material in the plane\n",
    "barrier = initialize_barrier(50,1)\n",
    "\n",
    "# #set parameters:\n",
    "#diffusion coefficient\n",
    "D = 1\n",
    "#resolution\n",
    "N = 50\n",
    "#timestep dt\n",
    "time_step = 0.0001\n",
    "#spacestep dx\n",
    "space_step = 1/N\n",
    "#iterations\n",
    "total_iterations = 10000\n",
    "\n",
    "#timesteps to plot\n",
    "saves = [0,10,100,1000,9999]\n",
    "\n",
    "#list for storing states\n",
    "states = []\n",
    "\n",
    "#initialize initial condition\n",
    "new_state = initialize_plane(N)\n",
    "\n",
    "#initialize gif object\n",
    "animated_gif = AnimatedGif()\n",
    " \n",
    "#do the diffusion step for number of iterations\n",
    "for i in range(total_iterations):\n",
    "\n",
    "    #get new state of system\n",
    "    new_state = diffusion_barrier(new_state,time_step,space_step,D,barrier)\n",
    "\n",
    "    #save current state if in requested saves\n",
    "    if i in saves:\n",
    "        states.append(new_state)\n",
    "    \n",
    "    #add every 100th frame to gif\n",
    "    if i%100==0:\n",
    "        animated_gif.add(new_state, label=f\"t={str(round(i*0.0001,4))}\")\n"
   ]
  },
  {
   "cell_type": "code",
   "execution_count": 170,
   "metadata": {},
   "outputs": [
    {
     "data": {
      "image/png": "[encoded data removed]",
      "text/plain": [
       "<Figure size 432x288 with 1 Axes>"
      ]
     },
     "metadata": {
      "needs_background": "light"
     },
     "output_type": "display_data"
    }
   ],
   "source": [
    "#plot each time as subplots in plot\n",
    "fig, axs = plt.subplots(1,5,figsize=(40,10))\n",
    "axs[0].imshow(states[0])\n",
    "axs[0].set_title('t=0',fontsize=60)\n",
    "axs[1].imshow(states[1])\n",
    "axs[1].set_title('t=0.001',fontsize=60)\n",
    "axs[2].imshow(states[2])\n",
    "axs[2].set_title('t=0.01',fontsize=60)\n",
    "axs[3].imshow(states[3])\n",
    "axs[3].set_title('t=0.1',fontsize=60)\n",
    "axs[4].imshow(states[4])\n",
    "axs[4].set_title('t=1',fontsize=60)\n",
    "\n",
    "#Hide the axes to just show pictures.\n",
    "for ax in axs:\n",
    "    ax.label_outer()\n",
    "    ax.axis('off')\n",
    "\n",
    "\n",
    "#save the plot\n",
    "plt.savefig(\"Figures/diffusion_barrier2.svg\",format=\"svg\", dpi=300)\n",
    "\n",
    "#save the gif\n",
    "animated_gif.save('Gifs/diffusion_barrier2.gif',fps=10)\n",
    "\n",
    "#save the barrier plane\n",
    "plt.imshow(barrier)\n",
    "plt.savefig(\"Figures/barrier2.svg\",format=\"svg\", dpi=300)"
   ]
  }
 ],
 "metadata": {
  "kernelspec": {
   "display_name": "base",
   "language": "python",
   "name": "python3"
  },
  "language_info": {
   "codemirror_mode": {
    "name": "ipython",
    "version": 3
   },
   "file_extension": ".py",
   "mimetype": "text/x-python",
   "name": "python",
   "nbconvert_exporter": "python",
   "pygments_lexer": "ipython3",
   "version": "3.9.12"
  },
  "orig_nbformat": 4,
  "vscode": {
   "interpreter": {
    "hash": "f675b0c55f4cb79c3dc2f2ed2b1029961987c33d464bb1a79928c15222548769"
   }
  }
 },
 "nbformat": 4,
 "nbformat_minor": 2
}
